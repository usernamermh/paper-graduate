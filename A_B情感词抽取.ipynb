{
 "cells": [
  {
   "cell_type": "code",
   "execution_count": 3,
   "outputs": [
    {
     "name": "stdout",
     "output_type": "stream",
     "text": [
      "ALBD\n"
     ]
    },
    {
     "name": "stderr",
     "output_type": "stream",
     "text": [
      "  0%|          | 0/16785 [00:00<?, ?it/s]Building prefix dict from the default dictionary ...\n",
      "Dumping model to file cache C:\\Users\\93461\\AppData\\Local\\Temp\\jieba.cache\n",
      "Loading model cost 0.717 seconds.\n",
      "Prefix dict has been built successfully.\n",
      "100%|██████████| 16785/16785 [00:36<00:00, 461.98it/s]\n"
     ]
    },
    {
     "name": "stdout",
     "output_type": "stream",
     "text": [
      "AND\n"
     ]
    },
    {
     "name": "stderr",
     "output_type": "stream",
     "text": [
      "100%|██████████| 16582/16582 [00:27<00:00, 592.74it/s]\n"
     ]
    },
    {
     "name": "stdout",
     "output_type": "stream",
     "text": [
      "AT\n"
     ]
    },
    {
     "name": "stderr",
     "output_type": "stream",
     "text": [
      "100%|██████████| 14256/14256 [00:27<00:00, 516.89it/s]\n"
     ]
    },
    {
     "name": "stdout",
     "output_type": "stream",
     "text": [
      "BNL\n"
     ]
    },
    {
     "name": "stderr",
     "output_type": "stream",
     "text": [
      "100%|██████████| 16060/16060 [00:41<00:00, 387.14it/s]\n"
     ]
    },
    {
     "name": "stdout",
     "output_type": "stream",
     "text": [
      "GRN\n"
     ]
    },
    {
     "name": "stderr",
     "output_type": "stream",
     "text": [
      "100%|██████████| 14035/14035 [00:24<00:00, 583.71it/s] \n"
     ]
    },
    {
     "name": "stdout",
     "output_type": "stream",
     "text": [
      "LN\n"
     ]
    },
    {
     "name": "stderr",
     "output_type": "stream",
     "text": [
      "100%|██████████| 15981/15981 [00:30<00:00, 526.47it/s]\n"
     ]
    },
    {
     "name": "stdout",
     "output_type": "stream",
     "text": [
      "QPL\n"
     ]
    },
    {
     "name": "stderr",
     "output_type": "stream",
     "text": [
      "100%|██████████| 15727/15727 [00:38<00:00, 412.92it/s]\n"
     ]
    },
    {
     "name": "stdout",
     "output_type": "stream",
     "text": [
      "TB\n"
     ]
    },
    {
     "name": "stderr",
     "output_type": "stream",
     "text": [
      "100%|██████████| 14474/14474 [00:26<00:00, 545.93it/s]\n"
     ]
    }
   ],
   "source": [
    "# 情感词抽取\n",
    "import jieba.posseg as pseg\n",
    "import jieba\n",
    "import re\n",
    "import pandas as pd\n",
    "from tqdm import tqdm\n",
    "# 结巴初始化\n",
    "jieba.initialize()\n",
    "aspect_words=pd.read_table('CAT法抽取到的方面词.tsv',encoding='utf-8',header=None)[0].tolist()\n",
    "\n",
    "# 抽取<方面,情感>词组,并写入文件\n",
    "stopwords=[line.strip() for line in open('D:\\python_common\\基本语料库\\停用词表完全版.txt',encoding='utf-8').readlines()]\n",
    "def find_pattern(sentence_cut_,word,index,checked):\n",
    "    sentence_cut=sentence_cut_.copy()\n",
    "    # 形容词+属性词\n",
    "    if index > 0 and pseg.lcut(sentence_cut[index-1])[0].flag in ['a','v'] and index-1 not in checked :\n",
    "        checked.append(index-1)\n",
    "        return  [sentence_cut[index-1],word],checked\n",
    "    # 属性词+形容词\n",
    "    elif index+1 < len(sentence_cut) and pseg.lcut(sentence_cut[index+1])[0].flag in ['a','x','v'] and index+1 not in checked :\n",
    "        checked.append(index+1)\n",
    "        return  [word,sentence_cut[index+1]],checked\n",
    "    # 属性词+形容词+形容词\n",
    "    elif index+2 < len(sentence_cut) and pseg.lcut(sentence_cut[index+1])[0].flag in ['a','x','v'] and pseg.lcut(sentence_cut[index+2])[0].flag in ['a','x','v'] and index+2 not in checked:\n",
    "        checked.append(index+2)\n",
    "        return  [word,sentence_cut[index+1],sentence_cut[index+2]],checked\n",
    "    # 形容词+形容词+属性词\n",
    "    elif index+2 < len(sentence_cut) and pseg.lcut(sentence_cut[index+1])[0].flag in ['a','x','v'] and pseg.lcut(sentence_cut[index+2])[0].flag in ['a','x','v'] and index+2 not in checked:\n",
    "        checked.append(index+2)\n",
    "        return  [word,sentence_cut[index+1],sentence_cut[index+2]],checked\n",
    "    # 属性词+副词+形容词\n",
    "    elif index+2 < len(sentence_cut) and pseg.lcut(sentence_cut[index+1])[0].flag in ['d','x','zg'] and pseg.lcut(sentence_cut[index+2])[0].flag in ['a','v','x'] and index+2 not in checked :\n",
    "        checked.append(index+2)\n",
    "        return  [word,sentence_cut[index+1],sentence_cut[index+2]],checked\n",
    "    # 副词+形容词+属性词\n",
    "    elif 2 < index < len(sentence_cut)-1 and pseg.lcut(sentence_cut[index - 2])[0].flag in ['d', 'x'] and pseg.lcut(sentence_cut[index - 1])[0].flag in ['a', 'v', 'x'] and index-2 not in checked:\n",
    "        checked.append(index-2)\n",
    "        return  [sentence_cut[index-2],sentence_cut[index-1],word],checked\n",
    "\n",
    "    return sentence_cut,checked\n",
    "\n",
    "def check(sentence):\n",
    "    sentence_cut_=pseg.lcut(sentence.strip())\n",
    "    sentence_cut=[each.word for each in sentence_cut_ if each.word not in stopwords]\n",
    "    S=[];checked=[]\n",
    "    for each_word_ in range(len(sentence_cut)):\n",
    "        if sentence_cut[each_word_] in aspect_words:\n",
    "            result=find_pattern(sentence_cut,sentence_cut[each_word_],each_word_,checked)\n",
    "            if result is not None:\n",
    "                ss,checked=result\n",
    "            if ss != sentence_cut:\n",
    "                S.append(ss)\n",
    "    if len(S)>=1 and type(S[0])==list:\n",
    "        return S\n",
    "\n",
    "    sentence2 = sentence\n",
    "    sentence2 = re.sub(r'[^\\w\\s]','',sentence2)\n",
    "    sentence2 = re.sub(r'\\d+', '', sentence2)\n",
    "    sentence2 = re.sub(r'  ', '', sentence2)\n",
    "    sentence2 = re.sub(r'[a-zA-Z]+', '', sentence2)\n",
    "    sentence2 = re.sub(r'.件', '', sentence2)\n",
    "    sentence2 = sentence2.strip()\n",
    "\n",
    "    sentence_cut2=jieba.lcut(sentence2)\n",
    "    sentence_cut2=[each for each in sentence_cut2 if each not in stopwords  and each !='\\n']\n",
    "\n",
    "    if len(sentence_cut2) >0:\n",
    "        S.append(sentence_cut2[0:5])\n",
    "    if len(S) >0:\n",
    "        return S\n",
    "    else:\n",
    "        S=[]\n",
    "        [S.append(each) for each in jieba.lcut(sentence.strip()) if each not in S]\n",
    "        return S\n",
    "\n",
    "for pinpai in ['ALBD','AND','AT','BNL','GRN','LN','QPL','TB']:\n",
    "    print(pinpai)\n",
    "    data=open('爬取结果/爬取结果_'+pinpai+'.txt',encoding='utf-8').readlines()\n",
    "    with open('D:\\python_common\\代码_感知质量大论文\\公开数据处理\\感知质量数据集\\关键词抽取结果\\关键词抽取结果_'+pinpai+'.tsv','w',encoding='utf-8') as f:\n",
    "        for each in tqdm(data):\n",
    "            result=check(each)\n",
    "            [f.write(''.join(each_r)+'\\t'+each.strip()+'\\n') for each_r in result]"
   ],
   "metadata": {
    "collapsed": false,
    "ExecuteTime": {
     "end_time": "2023-11-27T14:33:01.315113100Z",
     "start_time": "2023-11-27T14:28:48.784677100Z"
    }
   }
  }
 ],
 "metadata": {
  "kernelspec": {
   "name": "38_paddle",
   "language": "python",
   "display_name": "38_paddle"
  },
  "language_info": {
   "codemirror_mode": {
    "name": "ipython",
    "version": 3
   },
   "file_extension": ".py",
   "mimetype": "text/x-python",
   "name": "python",
   "nbconvert_exporter": "python",
   "pygments_lexer": "ipython3",
   "version": "3.8.10"
  },
  "vscode": {
   "interpreter": {
    "hash": "04f81eefe09083cd32cf0135e983360d23a4cbfd74eaca5c19ad33dd90c6e865"
   }
  }
 },
 "nbformat": 4,
 "nbformat_minor": 5
}
