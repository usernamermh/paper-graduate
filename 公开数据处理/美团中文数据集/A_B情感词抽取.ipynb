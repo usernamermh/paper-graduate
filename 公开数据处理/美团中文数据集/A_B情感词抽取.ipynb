{
 "cells": [
  {
   "cell_type": "code",
   "execution_count": 47,
   "outputs": [
    {
     "name": "stdout",
     "output_type": "stream",
     "text": [
      "train.csv start\n",
      " 99.997%\n",
      " train.csv done\n",
      "test.csv start\n",
      " 99.979%\n",
      " test.csv done\n",
      "dev.csv start\n",
      " 99.979%\n",
      " dev.csv done\n"
     ]
    }
   ],
   "source": [
    "# 情感词抽取\n",
    "import jieba.posseg as pseg\n",
    "import jieba\n",
    "import pandas as pd\n",
    "# 哈工大停用词、四川大学机器智能实验室停用词、百度停用词、中文停用词表\n",
    "# https://github.com/goto456/stopwords\n",
    "\n",
    "aspect_words=pd.read_table('CAT法抽取到的方面词.tsv',encoding='utf-8',header=None)[0].tolist()\n",
    "# 抽取<方面,情感>词组,并写入文件\n",
    "stopwords=[line.strip() for line in open('D:\\python_common\\基本语料库\\停用词表完全版.txt',encoding='utf-8').readlines()]\n",
    "def find_pattern(sentence_cut_,word,index,checked):\n",
    "    # sentence_cut_:[[word,flag],[word,flag]...]\n",
    "    # word:当前词\n",
    "    # index:当前词的索引\n",
    "    # checked:已经被检查过的词的索引\n",
    "    sentence_cut=sentence_cut_.copy()\n",
    "    # 形容词+属性词\n",
    "    if index > 0 and sentence_cut[index-1][1] in ['a','v'] and index-1 not in checked :\n",
    "        checked.append(index-1)\n",
    "        return  [sentence_cut[index-1][0],word],checked\n",
    "    # 属性词+形容词\n",
    "    elif index+1 < len(sentence_cut) and sentence_cut[index+1][1] in ['a','x','v'] and index+1 not in checked :\n",
    "        checked.append(index+1)\n",
    "        return  [word,sentence_cut[index+1][0]],checked\n",
    "    # 属性词+形容词+形容词\n",
    "    elif index+2 < len(sentence_cut) and sentence_cut[index+1][1] in ['a','x','v'] and sentence_cut[index+2][1] in ['a','x','v'] and index+2 not in checked:\n",
    "        checked.append(index+2)\n",
    "        return  [word,sentence_cut[index+1][0],sentence_cut[index+2][0]],checked\n",
    "    # 形容词+形容词+属性词\n",
    "    elif index+2 < len(sentence_cut) and sentence_cut[index+1][1] in ['a','x','v'] and sentence_cut[index+2][1] in ['a','x','v'] and index+2 not in checked:\n",
    "        checked.append(index+2)\n",
    "        return  [word,sentence_cut[index+1][0],sentence_cut[index+2][0]],checked\n",
    "    # 属性词+副词+形容词\n",
    "    elif index+2 < len(sentence_cut) and sentence_cut[index+1][1] in ['d','x','zg'] and sentence_cut[index+2][1] in ['a','v','x'] and index+2 not in checked :\n",
    "        checked.append(index+2)\n",
    "        return  [word,sentence_cut[index+1][0],sentence_cut[index+2][0]],checked\n",
    "    # 副词+形容词+属性词\n",
    "    elif 2 < index < len(sentence_cut)-1 and sentence_cut[index - 2][1] in ['d', 'x'] and sentence_cut[index - 1][1] in ['a', 'v', 'x'] and index-2 not in checked:\n",
    "        checked.append(index-2)\n",
    "        return  [sentence_cut[index-2][0],sentence_cut[index-1][0],word],checked\n",
    "\n",
    "    # 返回格式:[[],[]...],checked\n",
    "    return [],checked\n",
    "\n",
    "def check(sentence):\n",
    "    # 切词\n",
    "    sentence_cut_=pseg.lcut(sentence.strip())\n",
    "    sentence_cut=[[each.word,each.flag] for each in sentence_cut_ if each.word not in stopwords]\n",
    "    # S为抽取结果，checked为已经被检查过的词的索引\n",
    "    S=[];checked=[]\n",
    "    for i in range(len(sentence_cut)):\n",
    "        if sentence_cut[i][0] in aspect_words:\n",
    "            # 找到关键名词\n",
    "            ss,checked=find_pattern(sentence_cut,sentence_cut[i][0],i,checked)\n",
    "            # 匹配到模式\n",
    "            ss=list(set(ss))\n",
    "            # 去重\n",
    "            ss=[each for each in ss if each !=' ']\n",
    "            # 找到的关键词中没有空格，最少两个\n",
    "            if  len(ss)>1:\n",
    "                S.append('#'.join(ss))\n",
    "    # 一个句子所有的抽取结果，大于等于1次\n",
    "    if len(S)>=1:\n",
    "        return '@'.join(S)\n",
    "    # 如果抽取结果为空\n",
    "    else:\n",
    "        S=[]\n",
    "\n",
    "        [S.append(each) for each in jieba.lcut(sentence.strip()) if each not in S\n",
    "         and each not in stopwords and each not in [' ','\\n','\\t','\\r','\\u3000','\\xa0']\n",
    "         and '一' not in each]\n",
    "        return '#'.join(S)\n",
    "\n",
    "\n",
    "for path in ['train.csv','test.csv','dev.csv']:\n",
    "    print(path,'start')\n",
    "    data=pd.read_csv('预处理结果_'+path,encoding='utf-8')\n",
    "    datas=[]\n",
    "    for i in range(0,len(data['review'])):\n",
    "        datas.append(check(data['review'][i]))\n",
    "        if i%10==0:\n",
    "            print('\\r',str(100*i/len(data['review']))[0:6]+'%',end='')\n",
    "        if i == len(data['review'])-1:\n",
    "            print('\\r', '100.00%', end='')\n",
    "\n",
    "    data['keywords']=datas\n",
    "    data.to_csv('关键词抽取结果_'+path,encoding='utf-8',index=False)\n",
    "    print('\\n',path,'done,save to 关键词抽取结果_'+path,'total:',len(data['review']),'rows')\n"
   ],
   "metadata": {
    "collapsed": false,
    "ExecuteTime": {
     "end_time": "2023-09-24T04:55:15.578855200Z",
     "start_time": "2023-09-24T04:36:40.317329500Z"
    }
   }
  }
 ],
 "metadata": {
  "kernelspec": {
   "name": "38_paddle",
   "language": "python",
   "display_name": "38_paddle"
  },
  "language_info": {
   "codemirror_mode": {
    "name": "ipython",
    "version": 3
   },
   "file_extension": ".py",
   "mimetype": "text/x-python",
   "name": "python",
   "nbconvert_exporter": "python",
   "pygments_lexer": "ipython3",
   "version": "3.8.10"
  },
  "vscode": {
   "interpreter": {
    "hash": "04f81eefe09083cd32cf0135e983360d23a4cbfd74eaca5c19ad33dd90c6e865"
   }
  }
 },
 "nbformat": 4,
 "nbformat_minor": 5
}
