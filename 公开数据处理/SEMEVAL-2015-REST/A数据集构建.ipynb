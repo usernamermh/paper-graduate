{
 "cells": [
  {
   "cell_type": "code",
   "execution_count": 3,
   "outputs": [
    {
     "name": "stdout",
     "output_type": "stream",
     "text": [
      "DRINKS\n",
      "QUALITY\n",
      "SERVICE\n",
      "RESTAURANT\n",
      "FOOD\n",
      "STYLE_OPTIONS\n",
      "AMBIENCE\n",
      "LOCATION\n",
      "GENERAL\n",
      "MISCELLANEOUS\n",
      "PRICES\n"
     ]
    }
   ],
   "source": [
    "import pandas as pd\n",
    "import numpy as np\n",
    "ALL_cats=[]\n",
    "path1='test'\n",
    "path2='train' if path1=='test' else 'test'\n",
    "data1=pd.read_csv(path1+'.tsv',delimiter='\\t',encoding='gbk')\n",
    "data1.columns=['1','2','3']\n",
    "data1['senti']=data1['1'].apply(lambda x:x[0])\n",
    "data1['CAT']=data1['1'].apply(lambda x:x[1:])\n",
    "data1['CAT1']=data1['CAT'].apply(lambda x:x.split('#')[0])\n",
    "data1['CAT2']=data1['CAT'].apply(lambda x:x.split('#')[1])\n",
    "data1['KEYWORDS']=data1['2']\n",
    "data1['review']=data1['3']\n",
    "data1=data1[['senti','CAT1','CAT2','KEYWORDS','review']]\n",
    "data1_=pd.DataFrame(columns=['CAT','KEYWORDS','review'])\n",
    "for i in range(len(data1)):\n",
    "    review=data1['review'][i]\n",
    "    cat=[data1['CAT1'][i],data1['CAT2'][i]]\n",
    "    ALL_cats.extend(cat)\n",
    "    senti=data1['senti'][i]\n",
    "    keywords=data1['KEYWORDS'][i] if type(data1['KEYWORDS'][i])==str else 'NEG'\n",
    "    for j in cat:\n",
    "        data1_=data1_.append(\n",
    "            pd.DataFrame(\n",
    "                [[j,str(senti)+' '+keywords,review]],\n",
    "                columns=['CAT','KEYWORDS','review']\n",
    "            )\n",
    "        )\n",
    "\n",
    "\n",
    "data2=pd.read_csv(path2+'.tsv',delimiter='\\t',header=None,encoding='gbk')\n",
    "data2.columns=['1','2','3']\n",
    "data2['senti']=data2['1'].apply(lambda x:x[0])\n",
    "data2['CAT']=data2['1'].apply(lambda x:x[1:])\n",
    "data2['CAT1']=data2['CAT'].apply(lambda x:x.split('#')[0])\n",
    "data2['CAT2']=data2['CAT'].apply(lambda x:x.split('#')[1])\n",
    "data2['KEYWORDS']=data2['2']\n",
    "data2['review']=data2['3']\n",
    "data2=data2[['senti','CAT1','CAT2','KEYWORDS','review']]\n",
    "data2_=pd.DataFrame(columns=['CAT','KEYWORDS','review'])\n",
    "for i in range(len(data2)):\n",
    "    review=data2['review'][i]\n",
    "    cat=[data2['CAT1'][i],data2['CAT2'][i]]\n",
    "    ALL_cats.extend(cat)\n",
    "    senti=data2['senti'][i]\n",
    "    keywords=data2['KEYWORDS'][i] if type(data2['KEYWORDS'][i])==str else 'NEG'\n",
    "    for j in cat:\n",
    "        data2_=data2_.append(\n",
    "            pd.DataFrame(\n",
    "                [[j,str(senti)+' '+keywords,review]],\n",
    "                columns=['CAT','KEYWORDS','review']\n",
    "            )\n",
    "        )\n",
    "\n",
    "classes=list(set(ALL_cats))\n",
    "# 排序\n",
    "for each in classes:\n",
    "    try:\n",
    "        print(each)\n",
    "    except:\n",
    "        pass\n",
    "\n",
    "with open('label.txt','w') as f:\n",
    "    for each in classes:\n",
    "        f.write(each+'\\n')\n",
    "data1_.to_csv('关键词抽取结果_'+path1+'.csv',index=False,header=['labels','key_words','review'])\n",
    "data2_.to_csv('关键词抽取结果_'+path2+'.csv',index=False,header=['labels','key_words','review'],encoding='utf-8')"
   ],
   "metadata": {
    "collapsed": false,
    "ExecuteTime": {
     "end_time": "2023-10-18T06:48:26.834616800Z",
     "start_time": "2023-10-18T06:48:23.951410300Z"
    }
   }
  },
  {
   "cell_type": "code",
   "execution_count": 10,
   "outputs": [
    {
     "name": "stdout",
     "output_type": "stream",
     "text": [
      "3    1198\n",
      "1     402\n",
      "2      53\n",
      "Name: index2, dtype: int64\n"
     ]
    }
   ],
   "source": [
    "import pandas as pd\n",
    "data = pd.read_csv('train.tsv',sep='\\t')\n",
    "data.columns=['1','2','3']\n",
    "data['index2']=data['1'].apply(lambda x:x[0])\n",
    "print(data['index2'].value_counts())"
   ],
   "metadata": {
    "collapsed": false,
    "ExecuteTime": {
     "end_time": "2023-11-04T12:11:42.159498500Z",
     "start_time": "2023-11-04T12:11:42.138499600Z"
    }
   }
  },
  {
   "cell_type": "code",
   "execution_count": 11,
   "outputs": [
    {
     "name": "stdout",
     "output_type": "stream",
     "text": [
      "3    1198\n",
      "1     402\n",
      "2     318\n",
      "Name: 1, dtype: int64\n"
     ]
    }
   ],
   "source": [
    "# 数据增强\n",
    "import pandas as pd\n",
    "data = pd.read_csv('train.tsv',sep='\\t')\n",
    "data.columns=['1','2','3']\n",
    "data['index2']=data['1'].apply(lambda x:x[0])\n",
    "data1  = data[data['index2']=='2']\n",
    "\n",
    "data=data.append([data1]*5,ignore_index=True)\n",
    "data=data[['1','2','3']]\n",
    "data.to_csv('train_aug.tsv',sep='\\t',index=False,header=None)\n",
    "\n",
    "print(data['1'].apply(lambda x:x[0]).value_counts())"
   ],
   "metadata": {
    "collapsed": false,
    "ExecuteTime": {
     "end_time": "2023-11-04T12:11:44.416538100Z",
     "start_time": "2023-11-04T12:11:44.380835600Z"
    }
   }
  }
 ],
 "metadata": {
  "kernelspec": {
   "display_name": "Python 3 (ipykernel)",
   "language": "python",
   "name": "python3"
  },
  "language_info": {
   "codemirror_mode": {
    "name": "ipython",
    "version": 3
   },
   "file_extension": ".py",
   "mimetype": "text/x-python",
   "name": "python",
   "nbconvert_exporter": "python",
   "pygments_lexer": "ipython3",
   "version": "3.8.10"
  },
  "vscode": {
   "interpreter": {
    "hash": "04f81eefe09083cd32cf0135e983360d23a4cbfd74eaca5c19ad33dd90c6e865"
   }
  }
 },
 "nbformat": 4,
 "nbformat_minor": 2
}
