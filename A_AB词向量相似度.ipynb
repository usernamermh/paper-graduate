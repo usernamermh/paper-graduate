{
 "cells": [
  {
   "cell_type": "code",
   "execution_count": 1,
   "outputs": [
    {
     "name": "stderr",
     "output_type": "stream",
     "text": [
      "\u001B[32m[2023-09-09 22:08:07,883] [    INFO]\u001B[0m - Already cached C:\\Users\\93461\\.paddlenlp\\models\\bert-base-chinese\\bert-base-chinese.pdparams\u001B[0m\n"
     ]
    },
    {
     "name": "stdout",
     "output_type": "stream",
     "text": [
      "(1000, 3)\n",
      "1    1000\n",
      "Name: label, dtype: int64\n"
     ]
    },
    {
     "name": "stderr",
     "output_type": "stream",
     "text": [
      "\u001B[32m[2023-09-09 22:08:16,920] [    INFO]\u001B[0m - Weights from pretrained model not used in BertModel: ['cls.predictions.decoder_weight', 'cls.predictions.decoder_bias', 'cls.predictions.transform.weight', 'cls.predictions.transform.bias', 'cls.predictions.layer_norm.weight', 'cls.predictions.layer_norm.bias', 'cls.seq_relationship.weight', 'cls.seq_relationship.bias']\u001B[0m\n",
      "\u001B[32m[2023-09-09 22:08:17,364] [    INFO]\u001B[0m - Already cached C:\\Users\\93461\\.paddlenlp\\models\\bert-base-chinese\\bert-base-chinese-vocab.txt\u001B[0m\n",
      "\u001B[32m[2023-09-09 22:08:17,384] [    INFO]\u001B[0m - tokenizer config file saved in C:\\Users\\93461\\.paddlenlp\\models\\bert-base-chinese\\tokenizer_config.json\u001B[0m\n",
      "\u001B[32m[2023-09-09 22:08:17,387] [    INFO]\u001B[0m - Special tokens file saved in C:\\Users\\93461\\.paddlenlp\\models\\bert-base-chinese\\special_tokens_map.json\u001B[0m\n"
     ]
    },
    {
     "name": "stdout",
     "output_type": "stream",
     "text": [
      "(1000, 768)\n",
      "[0, 1, 2, 3, 4]\n"
     ]
    }
   ],
   "source": [
    "import pandas as pd\n",
    "import sklearn\n",
    "from sklearn.cluster import *\n",
    "import paddle\n",
    "from paddlenlp.transformers import BertTokenizer, BertModel\n",
    "import numpy as np\n",
    "import  random\n",
    "\n",
    "_list=pd.read_csv(r'D:\\python_common\\基本语料库\\数据集_10类\\online_shopping_10_cats.csv',encoding='utf-8')\n",
    "_list.columns=['cat','label','review']\n",
    "\n",
    "_list=_list.groupby('cat').head(200)\n",
    "# _list=_list.groupby('label').head(200)\n",
    "\n",
    "_list=_list[(_list['cat'].isin(['书籍','平板','水果','洗发水','衣服'])) & (_list['label'] == 1)]\n",
    "print(_list.shape)\n",
    "class Mybert():\n",
    "    def __init__(self):\n",
    "        self.bert = BertModel.from_pretrained('bert-base-chinese')\n",
    "        self.tokenizer = BertTokenizer.from_pretrained('bert-base-chinese')\n",
    "    def get(self,text):\n",
    "        tokenized_text = self.tokenizer.tokenize(text)\n",
    "        indexed_tokens = self.tokenizer.convert_tokens_to_ids(tokenized_text)\n",
    "        tokens_tensor = paddle.to_tensor([indexed_tokens])\n",
    "        self.bert.eval()\n",
    "        with paddle.no_grad():\n",
    "            outputs = self.bert(tokens_tensor.cuda())\n",
    "        return outputs[1].cpu().numpy()[0]\n",
    "mybert=Mybert()\n",
    "\n",
    "vectors=np.array([mybert.get(each) for each in _list['review']]).astype(np.float32)\n",
    "# 把字符转为数字\n",
    "cats=np.array(_list['cat'].apply(lambda x: ['书籍','平板','水果','洗发水','衣服'].index(x)).astype(np.int64).tolist())\n",
    "# cats=np.array(_list['label'])\n",
    "print(vectors.shape)\n",
    "print(list(set(cats.tolist())))"
   ],
   "metadata": {
    "collapsed": false,
    "ExecuteTime": {
     "end_time": "2023-09-09T14:08:37.219723500Z",
     "start_time": "2023-09-09T14:08:03.726149Z"
    }
   }
  },
  {
   "cell_type": "code",
   "execution_count": 7,
   "outputs": [],
   "source": [
    "# 降维\n",
    "from sklearn.decomposition import PCA\n",
    "from umap import UMAP\n",
    "vectors_pca=PCA(n_components=3).fit_transform(vectors)\n",
    "vectors_umap=UMAP(n_components=3,\n",
    "                  metric='cosine',\n",
    "                    n_neighbors=10,\n",
    "                    min_dist=0.01,\n",
    "                    random_state=42\n",
    "                  ).fit_transform(vectors)"
   ],
   "metadata": {
    "collapsed": false,
    "ExecuteTime": {
     "end_time": "2023-09-09T06:42:04.150122500Z",
     "start_time": "2023-09-09T06:42:02.537568100Z"
    }
   }
  },
  {
   "cell_type": "code",
   "execution_count": 12,
   "outputs": [
    {
     "name": "stdout",
     "output_type": "stream",
     "text": [
      "相似度相似度\n",
      "0.031443620725514265\n",
      "相似度相似度\n",
      "0.012538024372007826\n"
     ]
    }
   ],
   "source": [
    "# 相似性度量\n",
    "import numpy as np\n",
    "from sklearn.metrics import  silhouette_score\n",
    "# 向量内积\n",
    "def sim1(x,y):\n",
    "    return np.dot(x,y)\n",
    "# 夹角余弦\n",
    "def sim2(x,y):\n",
    "    return np.dot(x,y)/(np.linalg.norm(x)*np.linalg.norm(y))\n",
    "# RBF核\n",
    "def sim3(x,y):\n",
    "    # return np.exp(-np.linalg.norm(x-y)*(1/len(x[0:])))\n",
    "    return np.exp(-np.linalg.norm(x-y)*(0.9))\n",
    "\n",
    "VEC=vectors\n",
    "\n",
    "# 相似性\n",
    "# for sim in [sim1,sim2,sim3]:\n",
    "for sim in [sim1,sim2]:\n",
    "    SIM_VEC=np.zeros((len(VEC),len(VEC)))\n",
    "    for i in range(0,len(VEC)-1):\n",
    "        for j in range(i+1,len(VEC)):\n",
    "            SIM_VEC[i][j]=sim(VEC[i],VEC[j])\n",
    "            SIM_VEC[j][i]=SIM_VEC[i][j]\n",
    "    # 如果是sim1的话需要归一化\n",
    "    if sim == sim1 or sim == sim2:\n",
    "        SIM_VEC = (SIM_VEC - np.min(SIM_VEC)) / (np.max(SIM_VEC) - np.min(SIM_VEC))\n",
    "    np.fill_diagonal(SIM_VEC, 0)\n",
    "    print(silhouette_score(SIM_VEC, cats, metric='precomputed'))\n"
   ],
   "metadata": {
    "collapsed": false,
    "ExecuteTime": {
     "end_time": "2023-09-09T14:31:40.978435800Z",
     "start_time": "2023-09-09T14:31:36.244230400Z"
    }
   }
  },
  {
   "cell_type": "code",
   "execution_count": 0,
   "outputs": [],
   "source": [
    "\n",
    "# 可视化\n",
    "import matplotlib.pyplot as plt\n",
    "\n",
    "# import pandas as pd\n",
    "# import numpy as np\n",
    "# import plotly.express as px\n",
    "# def chart_plotly(X, y):\n",
    "#     arr_concat = np.concatenate((X, y.reshape(y.shape[0], 1)), axis=1)\n",
    "#     df = pd.DataFrame(arr_concat, columns=['x', 'y', 'z', 'label'])\n",
    "#     df['label'] = df['label'].astype(int)\n",
    "#     df.sort_values(by='label', axis=0, ascending=True, inplace=True)\n",
    "#     fig = px.scatter_3d(df, x='x', y='y', z='z', color=df['label'].astype(str), height=600, width=650)\n",
    "#     fig.update_layout(title_text='UMAP',\n",
    "#                       showlegend=True,\n",
    "#                       legend=dict(orientation=\"h\", yanchor=\"top\", y=0, xanchor=\"center\", x=0.5),\n",
    "#                       scene_camera=dict(up=dict(x=0, y=0, z=1),\n",
    "#                                         center=dict(x=0, y=0, z=-0.1),\n",
    "#                                         eye=dict(x=1.5, y=-1.4, z=0.5)),\n",
    "#                       margin=dict(l=0, r=0, b=0, t=0),\n",
    "#                       scene=dict(xaxis=dict(backgroundcolor='white',\n",
    "#                                             color='white',\n",
    "#                                             # gridcolor='#f0f0f0',\n",
    "#                                             title_font=dict(size=10),\n",
    "#                                             tickfont=dict(size=10),\n",
    "#                                             ),\n",
    "#                                  yaxis=dict(backgroundcolor='white',\n",
    "#                                             color='white',\n",
    "#                                             # gridcolor='#f0f0f0',\n",
    "#                                             title_font=dict(size=10),\n",
    "#                                             tickfont=dict(size=10),\n",
    "#                                             ),\n",
    "#                                  zaxis=dict(backgroundcolor='lightgrey',\n",
    "#                                             color='white',\n",
    "#                                             # gridcolor='#f0f0f0',\n",
    "#                                             title_font=dict(size=10),\n",
    "#                                             tickfont=dict(size=10),\n",
    "#                                             )))\n",
    "#     # Update marker size\n",
    "#     fig.update_traces(marker=dict(size=3, line=dict(color='black', width=0.1)))\n",
    "#     fig.show()\n",
    "# chart_plotly(VEC, cats)"
   ],
   "metadata": {
    "collapsed": false
   }
  },
  {
   "cell_type": "code",
   "execution_count": 11,
   "outputs": [
    {
     "name": "stdout",
     "output_type": "stream",
     "text": [
      "相似度相似度\n",
      "-0.0152602769724724\n",
      "相似度相似度\n",
      "相似度相似度\n",
      "-0.036538422324186345\n",
      "相似度相似度\n",
      "相似度相似度\n",
      "-0.061890207536136596\n",
      "相似度相似度\n",
      "相似度相似度\n",
      "-0.0888686279810951\n",
      "相似度相似度\n",
      "相似度相似度\n",
      "-0.11424190153873331\n",
      "相似度相似度\n",
      "相似度相似度\n",
      "-0.13543264619446546\n",
      "相似度相似度\n",
      "相似度相似度\n",
      "-0.1507294803707861\n",
      "相似度相似度\n",
      "相似度相似度\n",
      "-0.16130106625273335\n",
      "相似度相似度\n",
      "相似度相似度\n",
      "-0.16759752212516268\n",
      "相似度相似度\n",
      "相似度相似度\n",
      "-0.1707596801825513\n",
      "相似度相似度\n",
      "相似度相似度\n",
      "-0.1719357968702414\n",
      "相似度相似度\n",
      "相似度相似度\n",
      "-0.17120300203307579\n",
      "相似度相似度\n",
      "相似度相似度\n",
      "-0.16931490005303773\n",
      "相似度相似度\n",
      "相似度相似度\n",
      "-0.16673814913681542\n",
      "相似度相似度\n",
      "相似度相似度\n",
      "-0.16365450629150402\n",
      "相似度相似度\n",
      "相似度相似度\n",
      "-0.1601940166735687\n",
      "相似度相似度\n",
      "相似度相似度\n",
      "-0.15661291540126498\n",
      "相似度相似度\n",
      "相似度相似度\n",
      "-0.1531583355479679\n",
      "相似度相似度\n",
      "相似度相似度\n",
      "-0.1497913401687035\n",
      "相似度相似度\n"
     ]
    },
    {
     "data": {
      "text/plain": "[<matplotlib.lines.Line2D at 0x1a4be8c2ac0>]"
     },
     "execution_count": 11,
     "metadata": {},
     "output_type": "execute_result"
    },
    {
     "data": {
      "text/plain": "<Figure size 640x480 with 1 Axes>",
      "image/png": "[encoded data removed]"
     },
     "metadata": {},
     "output_type": "display_data"
    }
   ],
   "source": [
    "\n",
    "x=[]\n",
    "y=[]\n",
    "for m in np.arange(0.1,2,0.1):\n",
    "    # RBF核\n",
    "    def sim3(x,y,m=m):\n",
    "        return np.exp(-np.linalg.norm(x-y)*m)\n",
    "\n",
    "    SIM_VEC=np.zeros((len(VEC),len(VEC)))\n",
    "    for i in range(0,len(VEC)-1):\n",
    "        for j in range(i+1,len(VEC)):\n",
    "            SIM_VEC[i][j]=sim3(VEC[i],VEC[j])\n",
    "            SIM_VEC[j][i]=SIM_VEC[i][j]\n",
    "    np.fill_diagonal(SIM_VEC, 0)\n",
    "    x.append(m)\n",
    "    print(silhouette_score(SIM_VEC, cats, metric='precomputed'))\n",
    "    y.append(silhouette_score(SIM_VEC, cats, metric='precomputed'))\n",
    "\n",
    "import matplotlib.pyplot as plt\n",
    "plt.plot(x,y)"
   ],
   "metadata": {
    "collapsed": false,
    "ExecuteTime": {
     "end_time": "2023-09-09T14:30:08.015667700Z",
     "start_time": "2023-09-09T14:29:07.762381600Z"
    }
   }
  }
 ],
 "metadata": {
  "kernelspec": {
   "name": "38_paddle",
   "language": "python",
   "display_name": "38_paddle"
  },
  "language_info": {
   "codemirror_mode": {
    "name": "ipython",
    "version": 2
   },
   "file_extension": ".py",
   "mimetype": "text/x-python",
   "name": "python",
   "nbconvert_exporter": "python",
   "pygments_lexer": "ipython2",
   "version": "2.7.6"
  }
 },
 "nbformat": 4,
 "nbformat_minor": 0
}
